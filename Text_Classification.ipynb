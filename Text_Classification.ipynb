{
  "cells": [
    {
      "cell_type": "markdown",
      "metadata": {
        "id": "view-in-github",
        "colab_type": "text"
      },
      "source": [
        "<a href=\"https://colab.research.google.com/github/vuongvmu/Colab_RD/blob/master/Text_Classification.ipynb\" target=\"_parent\"><img src=\"https://colab.research.google.com/assets/colab-badge.svg\" alt=\"Open In Colab\"/></a>"
      ]
    },
    {
      "cell_type": "markdown",
      "source": [
        "# ***Template*** BOOK 1\n"
      ],
      "metadata": {
        "id": "IIW4AsTeMMI3"
      }
    },
    {
      "cell_type": "code",
      "source": [
        "from google.colab import drive\n",
        "drive.mount('/content/drive')"
      ],
      "metadata": {
        "id": "RWWKX1gWNCWf",
        "outputId": "9e44b671-7946-47db-be95-4f87dd60faba",
        "colab": {
          "base_uri": "https://localhost:8080/"
        }
      },
      "execution_count": 1,
      "outputs": [
        {
          "output_type": "stream",
          "name": "stdout",
          "text": [
            "Mounted at /content/drive\n"
          ]
        }
      ]
    },
    {
      "cell_type": "code",
      "source": [
        "import pandas as pd\n",
        "\n",
        "from sklearn.feature_extraction.text import TfidfVectorizer\n",
        "\n",
        "from sklearn.svm import SVC\n",
        "\n",
        "# Define the training data\n",
        "\n",
        "train_data = [\n",
        "\n",
        "    (\"Experience\", \"Tôi có 5 năm kinh nghiêm trong lĩnh vực công nghệ phần mềm.\"),\n",
        "    (\"Education\", \"Tôi tốt nghiệp đại học ngành công nghệ thông tin.\"),\n",
        "    (\"Skills\", \"Kỹ năng tốt với ngôn ngữ lập trình Python, Java và C#\"),\n",
        "    (\"Skills\", \"Kỹ năng Html,Ruby,SQL\"),\n",
        "    (\"QueQuan\", \"Nơi sinh: Hà Nội\"),\n",
        "    \n",
        "    # Add more training data as needed\n",
        "]\n",
        "# Create a DataFrame from the training data\n",
        "df_train = pd.DataFrame(train_data, columns=[\"Label\", \"Text\"])\n",
        "# Split the training data into features (Text) and labels (Label)\n",
        "X_train = df_train[\"Text\"]\n",
        "y_train = df_train[\"Label\"]\n",
        "# Create a TF-IDF vectorizer\n",
        "vectorizer = TfidfVectorizer()\n",
        "# Vectorize the training data\n",
        "X_train_vectorized = vectorizer.fit_transform(X_train)\n",
        "# Train a support vector machine (SVM) classifier\n",
        "\n",
        "classifier = SVC()\n",
        "classifier.fit(X_train_vectorized, y_train)\n",
        "# Define a function to extract information from a CV based on text classification\n",
        "def extract_information(cv_text):\n",
        "    # Vectorize the CV text\n",
        "    cv_vectorized = vectorizer.transform([cv_text])\n",
        "    # Classify the CV text using the trained classifier\n",
        "    label = classifier.predict(cv_vectorized)[0]\n",
        "    # Return the predicted label\n",
        "    return label\n",
        "\n",
        "# Example usage\n",
        "cv_text = \"Tôi ở Bắc Giang\"\n",
        "extracted_label = extract_information(cv_text)\n",
        "print(\"Extracted Label:\", extracted_label)\n"
      ],
      "metadata": {
        "id": "MTEeE9uzMNS0",
        "colab": {
          "base_uri": "https://localhost:8080/"
        },
        "outputId": "2438b57c-c3ea-4963-b0dc-6eb7a0a8515c"
      },
      "execution_count": 7,
      "outputs": [
        {
          "output_type": "stream",
          "name": "stdout",
          "text": [
            "Extracted Label: Skills\n"
          ]
        }
      ]
    }
  ],
  "metadata": {
    "colab": {
      "name": "Text Classification",
      "provenance": [],
      "include_colab_link": true
    },
    "kernelspec": {
      "display_name": "Python 3",
      "name": "python3"
    }
  },
  "nbformat": 4,
  "nbformat_minor": 0
}